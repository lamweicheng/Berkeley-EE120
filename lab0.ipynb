{
 "cells": [
  {
   "cell_type": "code",
   "execution_count": null,
   "metadata": {
    "deletable": false,
    "editable": false
   },
   "outputs": [],
   "source": [
    "# Initialize Otter\n",
    "import otter\n",
    "grader = otter.Notebook(\"lab0.ipynb\")"
   ]
  },
  {
   "cell_type": "markdown",
   "metadata": {
    "id": "axZoFUC3a4yz"
   },
   "source": [
    "# EE 120 Lab 0: Scientific Python Tutorial\n",
    "\n",
    "**Signals and Systems** at UC Berkeley\n",
    "\n",
    "Acknowledgements:\n",
    "\n",
    "- **Spring 2019** (v1.0): Dominic Carrano, Sukrit Arora, Babak Ayazifar  \n",
    "- **Fall 2019** (v2.0): Dominic Carrano  \n",
    "- **Spring 2020** (v2.1): Dominic Carrano\n",
    "- **Fall 2020** (v2.1.1): Anmol Parande\n",
    "- **Spring 2021** (v2.2): Jingjia Chen, Leyla Kabuli\n",
    "- **Fall 2021** (v2.3): Daniel Abraham\n",
    "- **Spring 2022** (v3.0): Anmol Parande"
   ]
  },
  {
   "cell_type": "code",
   "execution_count": null,
   "metadata": {
    "id": "Vde9XBh1a4y1"
   },
   "outputs": [],
   "source": [
    "# Click on me and hit Shift + Enter!\n",
    "import numpy as np\n",
    "import matplotlib.pyplot as plt\n",
    "%matplotlib inline"
   ]
  },
  {
   "cell_type": "markdown",
   "metadata": {
    "id": "TV8Mqj82a4y2"
   },
   "source": [
    "# Q1: The Python Scientific Computing Stack\n",
    "\n",
    "If you have taken CS 61A or EECS 16AB, you're already familiar with the Python programming language and some of its scientific computing capabilities, but this should still be a nice refresher. If you haven't, then this lab will get you up to speed on everything you need to know to complete the labs this semester.\n",
    "\n",
    "This question was adapted and extended from the [Berkeley Python Bootcamp 2013](https://github.com/profjsb/python-bootcamp), \n",
    "[Python for Signal Processing](http://link.springer.com/book/10.1007%2F978-3-319-01342-8), [EE 123](https://inst.eecs.berkeley.edu/~ee123/sp18/lab/lab0/python_tutorial.ipynb), and [EECS 126](https://inst.eecs.berkeley.edu/~ee126/sp18/LAB01.zip) Jupyter Notebook Tutorials. Note that there's no code to write for this question; it's entirely an interactive demo. Feel free to open up cells and experiment!"
   ]
  },
  {
   "cell_type": "markdown",
   "metadata": {
    "id": "2Bsvdd0ka4y2"
   },
   "source": [
    "## Q1a: The Jupyter Notebook Environment\n",
    "\n",
    "This interactive tool we're currently working in, and that we'll be using for all the labs this semester, is known as a *Jupyter Notebook*. It came out in ~2015 as a spinoff of the iPython platform. It's an incredible tool for interactive programming and experimentation that you'll learn to love this semester. Fun fact: one of the lead contributors, Fernando Perez, is a professor here at Berkeley!\n",
    "\n",
    "\n",
    "### Cells\n",
    "\n",
    "The Jupyter Notebook is divided into cells. Each cell can contain texts, codes or html scripts. Running a non-code cell simply advances to the next cell. To run a code cell using Shift-Enter or pressing the play button in the toolbar above:"
   ]
  },
  {
   "cell_type": "code",
   "execution_count": null,
   "metadata": {
    "colab": {
     "base_uri": "https://localhost:8080/"
    },
    "executionInfo": {
     "elapsed": 333,
     "status": "ok",
     "timestamp": 1610923603142,
     "user": {
      "displayName": "Jingjia Chen",
      "photoUrl": "https://lh3.googleusercontent.com/a-/AOh14Gjo2OncfI7FGZzr_0YKGlneHayFRkn5ydlXMd7dCg=s64",
      "userId": "06786466288909936611"
     },
     "user_tz": 480
    },
    "id": "uk28mIOCa4y3",
    "outputId": "9852012d-a954-4402-c19a-b984e6419053"
   },
   "outputs": [],
   "source": [
    "1+2"
   ]
  },
  {
   "cell_type": "markdown",
   "metadata": {
    "id": "gpwQHKaia4y3"
   },
   "source": [
    "### Interrupting the kernel\n",
    "\n",
    "For debugging, often we would like to interupt the current running process. This can be done by (in jupyter notebook) pressing the stop button, the black box in between the Run and Restart buttons. (This cell will auto-stop in 10 seconds if you do nothing)."
   ]
  },
  {
   "cell_type": "code",
   "execution_count": null,
   "metadata": {
    "colab": {
     "base_uri": "https://localhost:8080/",
     "height": 351
    },
    "executionInfo": {
     "elapsed": 9250,
     "status": "error",
     "timestamp": 1610923616403,
     "user": {
      "displayName": "Jingjia Chen",
      "photoUrl": "https://lh3.googleusercontent.com/a-/AOh14Gjo2OncfI7FGZzr_0YKGlneHayFRkn5ydlXMd7dCg=s64",
      "userId": "06786466288909936611"
     },
     "user_tz": 480
    },
    "id": "y3ubp_hZa4y3",
    "outputId": "83d146cd-aa7b-4744-d0b2-e82e79305b0d"
   },
   "outputs": [],
   "source": [
    "import time\n",
    "\n",
    "i = 0\n",
    "while i < 10:\n",
    "    print(\"error\")\n",
    "    time.sleep(1)\n",
    "    i += 1"
   ]
  },
  {
   "cell_type": "markdown",
   "metadata": {
    "id": "EwB74AILa4y4"
   },
   "source": [
    "### Restarting the Kernels\n",
    "\n",
    "Interrupting sometimes does not work. You can reset the state by restarting the kernel by (jupyter notebook) clicking `Kernel -> Restart`."
   ]
  },
  {
   "cell_type": "markdown",
   "metadata": {
    "id": "tPGISwUda4y4"
   },
   "source": [
    "### Saving the Notebook\n",
    "\n",
    "To save your notebook, you can select `\"File->Save and Checkpoint\"`. Alternatively, for a shortcut, hit `Command-s` on Mac or `Ctrl-s` on Windows. Try it out right now to make sure your work is saved."
   ]
  },
  {
   "cell_type": "markdown",
   "metadata": {
    "id": "vWgdIsW6a4y4"
   },
   "source": [
    "### Undoing\n",
    "\n",
    "To undo changes in each cell, hit `Command-z` for Mac and `Ctrl-z` for Windows.\n",
    "To undo `Delete Cell`, select `Edit->Undo Delete Cell`."
   ]
  },
  {
   "cell_type": "markdown",
   "metadata": {
    "id": "XKpf6ko4a4y4"
   },
   "source": [
    "### Tab Completion\n",
    "\n",
    "One useful feature of iPython notebook is tab completion, which can save you a lot of time in typing out variable and function names while writing code. Try it out below!"
   ]
  },
  {
   "cell_type": "code",
   "execution_count": null,
   "metadata": {
    "id": "PwvTNE0Ga4y5"
   },
   "outputs": [],
   "source": [
    "one_plus_one = 1+1\n",
    "\n",
    "# type `one_` then hit TAB will auto-complete the variable\n",
    "print(one_plus_one)"
   ]
  },
  {
   "cell_type": "markdown",
   "metadata": {
    "id": "83A6Bo2oa4y5"
   },
   "source": [
    "### Help Menu for Functions\n",
    "\n",
    "Another useful feature is the help command. Type any function followed by `?` returns a help window. This is an incredibly underappreciated feature of iPython notebook, as it enables you to get all the information you need about a function (e.g., what arguments it expects, what it returns and in what order) without searching for the documentation online. Hit the `x` button to close it.\n",
    "\n",
    "Double question mark `??` allows you to access the source code."
   ]
  },
  {
   "cell_type": "code",
   "execution_count": null,
   "metadata": {
    "id": "7mUBTsWza4y5"
   },
   "outputs": [],
   "source": [
    "abs?"
   ]
  },
  {
   "cell_type": "markdown",
   "metadata": {
    "id": "THg92x7ja4y5"
   },
   "source": [
    "### Other Jupyter Notebook Navigation Tips\n",
    "- To add a new cell, either select `\"Insert->Insert New Cell Below\"` or click the white plus button.\n",
    "- You can change the cell mode from code to text in the pulldown menu. I use `Markdown` for text.\n",
    "- You can change the texts in the `Markdown` cells by double-clicking them.\n",
    "- `Help->Keyboard Shortcuts` has a list of keyboard shortcuts."
   ]
  },
  {
   "cell_type": "markdown",
   "metadata": {
    "id": "PzdYjONWa4y6"
   },
   "source": [
    "### Libraries\n",
    "\n",
    "These are the libraries that we will be using in this class:\n",
    "    \n",
    "- __NumPy__: The fundamental package for scientific computing with Python.\n",
    "\n",
    "- __SciPy__: A collection of numerical algorithms and domain-specific toolboxes, including signal processing, optimization, statistics and much more.\n",
    "\n",
    "- __Matplotlib__: A Python 2D plotting library which produces publication quality figures in a variety of hardcopy formats and interactive environments across platforms.\n",
    "\n",
    "#### About Each\n",
    "\n",
    "NumPy and Matplotlib are almost like sub-programming languages inside Python for scientific computing and plotting, respectively. By the end of this semester, you'll be well-seasoned in both. \n",
    "\n",
    "SciPy, on the other hand, is a collection of useful functions that you'll look up when you need to do something really specific that NumPy doesn't have, like digital filter design (see EE 123 for more) or some more complicated algorithms like k-means clustering (as you saw in EE 16B).\n"
   ]
  },
  {
   "cell_type": "markdown",
   "metadata": {
    "id": "yg2Drh6xa4y6"
   },
   "source": [
    "### Importing\n",
    "\n",
    "To import a specific library `x`, simply type `import x`.\n",
    "\n",
    "To access the library function `f`, type `x.f`.\n",
    "\n",
    "If you want to change the library name to `y`, type `import x as y`."
   ]
  },
  {
   "cell_type": "code",
   "execution_count": null,
   "metadata": {
    "colab": {
     "base_uri": "https://localhost:8080/"
    },
    "executionInfo": {
     "elapsed": 461,
     "status": "ok",
     "timestamp": 1610924129389,
     "user": {
      "displayName": "Jingjia Chen",
      "photoUrl": "https://lh3.googleusercontent.com/a-/AOh14Gjo2OncfI7FGZzr_0YKGlneHayFRkn5ydlXMd7dCg=s64",
      "userId": "06786466288909936611"
     },
     "user_tz": 480
    },
    "id": "UdwoXgRxa4y6",
    "outputId": "7efd887a-b8b8-4d5e-e0ae-757e9dbd0f4b"
   },
   "outputs": [],
   "source": [
    "# CONVENTION: \"import numpy as np\" when importing numpy, it lets us use \"np\" as shorthand!\n",
    "\n",
    "# You could just as easily do \"import numpy as derp\", but then you'd have all this weird code\n",
    "# like \"derp.convolve(x, h, mode='full')\" - the standard convention is to use \"np\" for numpy\n",
    "import numpy as np \n",
    "np.ones((3,1))"
   ]
  },
  {
   "cell_type": "markdown",
   "metadata": {
    "id": "2oZH0ZZEa4y7"
   },
   "source": [
    "## Q1b: Data Representation in Python and NumPy"
   ]
  },
  {
   "cell_type": "markdown",
   "metadata": {
    "id": "OB8Rj-mSa4y7"
   },
   "source": [
    "### Floats and Integers\n",
    "\n",
    "In Python 3 floor division is done with \"//\". Make sure you know what version you're working with!"
   ]
  },
  {
   "cell_type": "code",
   "execution_count": null,
   "metadata": {
    "colab": {
     "base_uri": "https://localhost:8080/"
    },
    "executionInfo": {
     "elapsed": 385,
     "status": "ok",
     "timestamp": 1610924160101,
     "user": {
      "displayName": "Jingjia Chen",
      "photoUrl": "https://lh3.googleusercontent.com/a-/AOh14Gjo2OncfI7FGZzr_0YKGlneHayFRkn5ydlXMd7dCg=s64",
      "userId": "06786466288909936611"
     },
     "user_tz": 480
    },
    "id": "m8_HQ1eEa4y8",
    "outputId": "724d1930-84d4-4cb4-cf31-583374bd5e6b"
   },
   "outputs": [],
   "source": [
    "1 / 4 # in Python 2, returns 0; in Python 3, returns 0.25"
   ]
  },
  {
   "cell_type": "code",
   "execution_count": null,
   "metadata": {
    "colab": {
     "base_uri": "https://localhost:8080/"
    },
    "executionInfo": {
     "elapsed": 439,
     "status": "ok",
     "timestamp": 1610924161955,
     "user": {
      "displayName": "Jingjia Chen",
      "photoUrl": "https://lh3.googleusercontent.com/a-/AOh14Gjo2OncfI7FGZzr_0YKGlneHayFRkn5ydlXMd7dCg=s64",
      "userId": "06786466288909936611"
     },
     "user_tz": 480
    },
    "id": "LCIK4FU_a4y8",
    "outputId": "5276a0a0-8e41-4c63-a911-5b5d73721f55"
   },
   "outputs": [],
   "source": [
    "1 / 4.0"
   ]
  },
  {
   "cell_type": "code",
   "execution_count": null,
   "metadata": {
    "colab": {
     "base_uri": "https://localhost:8080/"
    },
    "executionInfo": {
     "elapsed": 347,
     "status": "ok",
     "timestamp": 1610924164601,
     "user": {
      "displayName": "Jingjia Chen",
      "photoUrl": "https://lh3.googleusercontent.com/a-/AOh14Gjo2OncfI7FGZzr_0YKGlneHayFRkn5ydlXMd7dCg=s64",
      "userId": "06786466288909936611"
     },
     "user_tz": 480
    },
    "id": "9PwZyESMa4y8",
    "outputId": "76e64377-5fbd-475a-f26c-1bd298ea0674"
   },
   "outputs": [],
   "source": [
    "1 // 4 # floor division in Python 3 with \"//\""
   ]
  },
  {
   "cell_type": "markdown",
   "metadata": {
    "id": "P_P0SzUVa4y9"
   },
   "source": [
    "### Strings\n",
    "\n",
    "Unlike Java or C, double quotes (\"I am double quoted!\") and single quotes ('I, however, am single quoted') are the same thing in Python. Both represent strings. Python lets us use `'+'` to concatenates strings, making for very simple and readable code."
   ]
  },
  {
   "cell_type": "code",
   "execution_count": null,
   "metadata": {
    "colab": {
     "base_uri": "https://localhost:8080/",
     "height": 37
    },
    "executionInfo": {
     "elapsed": 372,
     "status": "ok",
     "timestamp": 1610924171017,
     "user": {
      "displayName": "Jingjia Chen",
      "photoUrl": "https://lh3.googleusercontent.com/a-/AOh14Gjo2OncfI7FGZzr_0YKGlneHayFRkn5ydlXMd7dCg=s64",
      "userId": "06786466288909936611"
     },
     "user_tz": 480
    },
    "id": "-Dr2pPlLa4y9",
    "outputId": "ddec2e4d-489d-4675-dba2-70b2201fad8a"
   },
   "outputs": [],
   "source": [
    "\"EE \" + '120' # we can mix and match single and double quotes and Python won't care"
   ]
  },
  {
   "cell_type": "markdown",
   "metadata": {
    "id": "0ya2iC66a4y9"
   },
   "source": [
    "### Lists\n",
    "\n",
    "A list is a **mutable** array of data. That is, we can change it after we create it. They can be created using square brackets: `[]`.\n",
    "\n",
    "\n",
    "Important functions: \n",
    "- `'+'` concatenates lists. \n",
    "- `len(x)` returns the number of elements in the list."
   ]
  },
  {
   "cell_type": "code",
   "execution_count": null,
   "metadata": {
    "colab": {
     "base_uri": "https://localhost:8080/"
    },
    "executionInfo": {
     "elapsed": 721,
     "status": "ok",
     "timestamp": 1610924176021,
     "user": {
      "displayName": "Jingjia Chen",
      "photoUrl": "https://lh3.googleusercontent.com/a-/AOh14Gjo2OncfI7FGZzr_0YKGlneHayFRkn5ydlXMd7dCg=s64",
      "userId": "06786466288909936611"
     },
     "user_tz": 480
    },
    "id": "jgqcwKkla4y9",
    "outputId": "0a700eb1-d033-4228-f5b2-fe544e3eb559"
   },
   "outputs": [],
   "source": [
    "x = [\"EE\"] + [1, 2, 0]\n",
    "print(x)"
   ]
  },
  {
   "cell_type": "code",
   "execution_count": null,
   "metadata": {
    "colab": {
     "base_uri": "https://localhost:8080/"
    },
    "executionInfo": {
     "elapsed": 546,
     "status": "ok",
     "timestamp": 1610924177166,
     "user": {
      "displayName": "Jingjia Chen",
      "photoUrl": "https://lh3.googleusercontent.com/a-/AOh14Gjo2OncfI7FGZzr_0YKGlneHayFRkn5ydlXMd7dCg=s64",
      "userId": "06786466288909936611"
     },
     "user_tz": 480
    },
    "id": "iDfA0M0Ea4y9",
    "outputId": "931f7699-4c16-4d1d-e1e2-d88de16f7508"
   },
   "outputs": [],
   "source": [
    "print(len(x))"
   ]
  },
  {
   "cell_type": "markdown",
   "metadata": {
    "id": "CpS_4b_Ta4y9"
   },
   "source": [
    "We can also write **list comprehensions** which enable us to perform some iterative computation to construct a list without having to explicitly write out a for loop. The expression `[f(i) for i in some_other_iterable]`, where `f` is some Python function, will generate the list `[f(my_other_list[0]), ..., f(my_other_list[-1])]`. \n",
    "\n",
    "Below is an example to generate the squares of the first 10 positive integers."
   ]
  },
  {
   "cell_type": "code",
   "execution_count": null,
   "metadata": {
    "colab": {
     "base_uri": "https://localhost:8080/"
    },
    "executionInfo": {
     "elapsed": 339,
     "status": "ok",
     "timestamp": 1610924180159,
     "user": {
      "displayName": "Jingjia Chen",
      "photoUrl": "https://lh3.googleusercontent.com/a-/AOh14Gjo2OncfI7FGZzr_0YKGlneHayFRkn5ydlXMd7dCg=s64",
      "userId": "06786466288909936611"
     },
     "user_tz": 480
    },
    "id": "aMMfhCy3a4y-",
    "outputId": "b886ed7e-f9ec-498a-f1e3-1595635c3a1b"
   },
   "outputs": [],
   "source": [
    "def square(x):\n",
    "    return x * x\n",
    "\n",
    "[square(i) for i in range(1, 11)]"
   ]
  },
  {
   "cell_type": "markdown",
   "metadata": {
    "id": "NBbKMVUTa4y-"
   },
   "source": [
    "### Tuples\n",
    "\n",
    "A tuple is an immutable list. They can be created using round brackets (). \n",
    "They are usually used as inputs and outputs to functions."
   ]
  },
  {
   "cell_type": "code",
   "execution_count": null,
   "metadata": {
    "colab": {
     "base_uri": "https://localhost:8080/"
    },
    "executionInfo": {
     "elapsed": 359,
     "status": "ok",
     "timestamp": 1610924184564,
     "user": {
      "displayName": "Jingjia Chen",
      "photoUrl": "https://lh3.googleusercontent.com/a-/AOh14Gjo2OncfI7FGZzr_0YKGlneHayFRkn5ydlXMd7dCg=s64",
      "userId": "06786466288909936611"
     },
     "user_tz": 480
    },
    "id": "7qQCv3Tsa4y-",
    "outputId": "e3cef107-9254-4f42-d36c-3925ae979655"
   },
   "outputs": [],
   "source": [
    "t = (\"E\", \"E\") + (1, 2, 0)\n",
    "print(t)"
   ]
  },
  {
   "cell_type": "code",
   "execution_count": null,
   "metadata": {
    "colab": {
     "base_uri": "https://localhost:8080/",
     "height": 215
    },
    "executionInfo": {
     "elapsed": 397,
     "status": "error",
     "timestamp": 1610924185071,
     "user": {
      "displayName": "Jingjia Chen",
      "photoUrl": "https://lh3.googleusercontent.com/a-/AOh14Gjo2OncfI7FGZzr_0YKGlneHayFRkn5ydlXMd7dCg=s64",
      "userId": "06786466288909936611"
     },
     "user_tz": 480
    },
    "id": "xvqCa4Fna4y-",
    "outputId": "486c9f78-739e-4783-8e07-7d6cde034cab"
   },
   "outputs": [],
   "source": [
    "# cannot do assignment to a tuple after creation - it's immutable\n",
    "t[4] = 3 # will error\n",
    "\n",
    "# note: errors in ipython notebook appear \"inline\", i.e. inside the notebook itself"
   ]
  },
  {
   "cell_type": "markdown",
   "metadata": {
    "id": "ZiR_iv7ya4y_"
   },
   "source": [
    "### Functions\n",
    "\n",
    "Functions take in a set of arguments, and return (possibly multiple) values. Here's an example of a function that checks if a number is divisible by 3, using Python's modulus operator (`a % b` returns the remainder of dividing `a` by `b`; if the remainder is 0, then `a` is divisible by `b`):"
   ]
  },
  {
   "cell_type": "code",
   "execution_count": null,
   "metadata": {
    "colab": {
     "base_uri": "https://localhost:8080/"
    },
    "executionInfo": {
     "elapsed": 402,
     "status": "ok",
     "timestamp": 1610924196755,
     "user": {
      "displayName": "Jingjia Chen",
      "photoUrl": "https://lh3.googleusercontent.com/a-/AOh14Gjo2OncfI7FGZzr_0YKGlneHayFRkn5ydlXMd7dCg=s64",
      "userId": "06786466288909936611"
     },
     "user_tz": 480
    },
    "id": "ivCEsTCca4y_",
    "outputId": "3098c35f-cd11-43b6-ce59-5997f449aff4"
   },
   "outputs": [],
   "source": [
    "def is_divisible_by_3(x):\n",
    "    return x % 3 == 0\n",
    "\n",
    "print(\"6 is divisible by 3? {0}\".format(is_divisible_by_3(6)))\n",
    "print(\"8 is divisible by 3? {0}\".format(is_divisible_by_3(8)))"
   ]
  },
  {
   "cell_type": "markdown",
   "metadata": {
    "id": "ne8N3Feua4zA"
   },
   "source": [
    "You can also return multiple values from a function at once; just separate them with commas in the return statement. Similarly, to assign them to values after the function call, just separate the variables you want to assign the return values to by commas. Here's a dummy example that takes in two numbers, and returns their sum and their difference:"
   ]
  },
  {
   "cell_type": "code",
   "execution_count": null,
   "metadata": {
    "colab": {
     "base_uri": "https://localhost:8080/"
    },
    "executionInfo": {
     "elapsed": 320,
     "status": "ok",
     "timestamp": 1610924197502,
     "user": {
      "displayName": "Jingjia Chen",
      "photoUrl": "https://lh3.googleusercontent.com/a-/AOh14Gjo2OncfI7FGZzr_0YKGlneHayFRkn5ydlXMd7dCg=s64",
      "userId": "06786466288909936611"
     },
     "user_tz": 480
    },
    "id": "okm45C-Ia4zB",
    "outputId": "29924930-d63d-4486-83d7-7f4ab02ed779"
   },
   "outputs": [],
   "source": [
    "def sum_and_diff(x, y):\n",
    "    return x+y, x-y\n",
    "\n",
    "a, b = sum_and_diff(3, 5)\n",
    "print(a) # 3 + 5 = 8\n",
    "print(b) # 3 - 5 = -2 "
   ]
  },
  {
   "cell_type": "markdown",
   "metadata": {
    "id": "6CuOO9QMa4zB"
   },
   "source": [
    "### NumPy Array\n",
    "\n",
    "The NumPy array, aka an \"ndarray\", is like a list with multidimensional support and more functions. This will be the primary data structure in our class.\n",
    "\n",
    "Arithmetic operations on NumPy arrays correspond to elementwise operations. \n",
    "\n",
    "Important NumPy Array functions:\n",
    "\n",
    "- `.shape` returns the dimensions of the array.\n",
    "\n",
    "- `.ndim` returns the number of dimensions. \n",
    "\n",
    "- `.size` returns the number of entries in the array.\n",
    "\n",
    "- `len()` returns the first dimension.\n",
    "\n",
    "\n",
    "To use functions in NumPy, we have to import NumPy to our workspace. This is done by the command `import numpy`. By convention, we rename `numpy` as `np` for convenience."
   ]
  },
  {
   "cell_type": "markdown",
   "metadata": {
    "id": "YuwJYopaa4zC"
   },
   "source": [
    "### Creating a NumPy Array"
   ]
  },
  {
   "cell_type": "code",
   "execution_count": null,
   "metadata": {
    "colab": {
     "base_uri": "https://localhost:8080/"
    },
    "executionInfo": {
     "elapsed": 311,
     "status": "ok",
     "timestamp": 1610924259308,
     "user": {
      "displayName": "Jingjia Chen",
      "photoUrl": "https://lh3.googleusercontent.com/a-/AOh14Gjo2OncfI7FGZzr_0YKGlneHayFRkn5ydlXMd7dCg=s64",
      "userId": "06786466288909936611"
     },
     "user_tz": 480
    },
    "id": "ouKh_IR2a4zC",
    "outputId": "52c34286-33af-44ce-bf17-90b69e88b65f"
   },
   "outputs": [],
   "source": [
    "x = np.array([[1, 2], [3 , 4]])\n",
    "print(x)"
   ]
  },
  {
   "cell_type": "markdown",
   "metadata": {
    "id": "f6ocQzbAa4zC"
   },
   "source": [
    "### Getting the shape of a NumPy Array"
   ]
  },
  {
   "cell_type": "code",
   "execution_count": null,
   "metadata": {
    "colab": {
     "base_uri": "https://localhost:8080/"
    },
    "executionInfo": {
     "elapsed": 382,
     "status": "ok",
     "timestamp": 1610924260702,
     "user": {
      "displayName": "Jingjia Chen",
      "photoUrl": "https://lh3.googleusercontent.com/a-/AOh14Gjo2OncfI7FGZzr_0YKGlneHayFRkn5ydlXMd7dCg=s64",
      "userId": "06786466288909936611"
     },
     "user_tz": 480
    },
    "id": "6PwqYuqCa4zC",
    "outputId": "cca77e0d-5b32-4f74-fb28-4fdc828bcc71"
   },
   "outputs": [],
   "source": [
    "x.shape # returns the dimensions of the numpy array"
   ]
  },
  {
   "cell_type": "code",
   "execution_count": null,
   "metadata": {
    "colab": {
     "base_uri": "https://localhost:8080/"
    },
    "executionInfo": {
     "elapsed": 318,
     "status": "ok",
     "timestamp": 1610924262025,
     "user": {
      "displayName": "Jingjia Chen",
      "photoUrl": "https://lh3.googleusercontent.com/a-/AOh14Gjo2OncfI7FGZzr_0YKGlneHayFRkn5ydlXMd7dCg=s64",
      "userId": "06786466288909936611"
     },
     "user_tz": 480
    },
    "id": "g1KMMyCia4zC",
    "outputId": "164387d9-f317-4ff9-f65a-5825a1664ec6"
   },
   "outputs": [],
   "source": [
    "np.shape(x) # equivalent to x.shape"
   ]
  },
  {
   "cell_type": "markdown",
   "metadata": {
    "id": "QqL4lEf_a4zD"
   },
   "source": [
    "## Q1c: Operations on Data in Python and NumPy"
   ]
  },
  {
   "cell_type": "markdown",
   "metadata": {
    "id": "iXLhcrPma4zD"
   },
   "source": [
    "### Elementwise operations\n",
    "\n",
    "One major advantage of using NumPy arrays is that arithmetic operations on NumPy arrays correspond to elementwise operations. This makes NumPy amenable to vectorized implementations of algorithms, a common technique used for speeding up computer simulations than can be parallelized."
   ]
  },
  {
   "cell_type": "code",
   "execution_count": null,
   "metadata": {
    "colab": {
     "base_uri": "https://localhost:8080/"
    },
    "executionInfo": {
     "elapsed": 315,
     "status": "ok",
     "timestamp": 1610924264018,
     "user": {
      "displayName": "Jingjia Chen",
      "photoUrl": "https://lh3.googleusercontent.com/a-/AOh14Gjo2OncfI7FGZzr_0YKGlneHayFRkn5ydlXMd7dCg=s64",
      "userId": "06786466288909936611"
     },
     "user_tz": 480
    },
    "id": "26FIO3R3a4zD",
    "outputId": "1cbd4c47-b876-4d04-a299-ca0f513eda54"
   },
   "outputs": [],
   "source": [
    "print(x)\n",
    "print()\n",
    "print(x + 2) # numpy is smart and assumes you want this to be done to all elements!"
   ]
  },
  {
   "cell_type": "markdown",
   "metadata": {
    "id": "JXHI4iyaa4zE"
   },
   "source": [
    "### Matrix multiplication\n",
    "\n",
    "You can use `np.matrix` with the multiplication operator or `np.dot` to do matrix multiplication. If you want to be even more concise, you can also use the `@` operator."
   ]
  },
  {
   "cell_type": "code",
   "execution_count": null,
   "metadata": {
    "colab": {
     "base_uri": "https://localhost:8080/"
    },
    "executionInfo": {
     "elapsed": 411,
     "status": "ok",
     "timestamp": 1610924265140,
     "user": {
      "displayName": "Jingjia Chen",
      "photoUrl": "https://lh3.googleusercontent.com/a-/AOh14Gjo2OncfI7FGZzr_0YKGlneHayFRkn5ydlXMd7dCg=s64",
      "userId": "06786466288909936611"
     },
     "user_tz": 480
    },
    "id": "c3rEOLxla4zE",
    "outputId": "5b18da05-6004-4721-b8ca-50c3387e7f77"
   },
   "outputs": [],
   "source": [
    "print(np.matrix(x) * np.matrix(x))\n",
    "print() # newline for formatting\n",
    "\n",
    "# Or\n",
    "print(np.dot(x,x))\n",
    "print() # newline for formatting\n",
    "\n",
    "# Or\n",
    "print(x @ x)"
   ]
  },
  {
   "cell_type": "markdown",
   "metadata": {
    "id": "tUN0wypHa4zE"
   },
   "source": [
    "### Slicing NumPy arrays\n",
    "\n",
    "NumPy uses pass-by-reference semantics so it creates views into the existing array, without implicit copying. This is particularly helpful with very large arrays because copying can be slow."
   ]
  },
  {
   "cell_type": "code",
   "execution_count": null,
   "metadata": {
    "colab": {
     "base_uri": "https://localhost:8080/"
    },
    "executionInfo": {
     "elapsed": 1114,
     "status": "ok",
     "timestamp": 1610924267563,
     "user": {
      "displayName": "Jingjia Chen",
      "photoUrl": "https://lh3.googleusercontent.com/a-/AOh14Gjo2OncfI7FGZzr_0YKGlneHayFRkn5ydlXMd7dCg=s64",
      "userId": "06786466288909936611"
     },
     "user_tz": 480
    },
    "id": "1nwHNl5ra4zE",
    "outputId": "fac1f02f-faf8-4179-af20-fb2f626e10e5"
   },
   "outputs": [],
   "source": [
    "x = np.array([1,2,3,4,5,6])\n",
    "print(x)"
   ]
  },
  {
   "cell_type": "markdown",
   "metadata": {
    "id": "ynRkyKgqa4zE"
   },
   "source": [
    "We slice an array from a to b-1 with `[a:b]`."
   ]
  },
  {
   "cell_type": "code",
   "execution_count": null,
   "metadata": {
    "colab": {
     "base_uri": "https://localhost:8080/"
    },
    "executionInfo": {
     "elapsed": 209,
     "status": "ok",
     "timestamp": 1610924267738,
     "user": {
      "displayName": "Jingjia Chen",
      "photoUrl": "https://lh3.googleusercontent.com/a-/AOh14Gjo2OncfI7FGZzr_0YKGlneHayFRkn5ydlXMd7dCg=s64",
      "userId": "06786466288909936611"
     },
     "user_tz": 480
    },
    "id": "P7Hwn-J1a4zE",
    "outputId": "593b991f-0051-40b7-9476-7d048e2f4a91"
   },
   "outputs": [],
   "source": [
    "y = x[0:4]\n",
    "print(y)"
   ]
  },
  {
   "cell_type": "markdown",
   "metadata": {
    "id": "IW1HweGia4zE"
   },
   "source": [
    "Because slicing does not copy the array, changing `y` changes `x`."
   ]
  },
  {
   "cell_type": "code",
   "execution_count": null,
   "metadata": {
    "colab": {
     "base_uri": "https://localhost:8080/"
    },
    "executionInfo": {
     "elapsed": 589,
     "status": "ok",
     "timestamp": 1610924269412,
     "user": {
      "displayName": "Jingjia Chen",
      "photoUrl": "https://lh3.googleusercontent.com/a-/AOh14Gjo2OncfI7FGZzr_0YKGlneHayFRkn5ydlXMd7dCg=s64",
      "userId": "06786466288909936611"
     },
     "user_tz": 480
    },
    "id": "0_i8jP4Ca4zF",
    "outputId": "efb47fbd-b6ff-4ead-f3ab-dfd3468bb7fd"
   },
   "outputs": [],
   "source": [
    "y[0] = 7\n",
    "print(x)\n",
    "print(y)"
   ]
  },
  {
   "cell_type": "markdown",
   "metadata": {
    "id": "nbFb-ePea4zF"
   },
   "source": [
    "To actually copy x, we should use `.copy()`. "
   ]
  },
  {
   "cell_type": "code",
   "execution_count": null,
   "metadata": {
    "colab": {
     "base_uri": "https://localhost:8080/"
    },
    "executionInfo": {
     "elapsed": 349,
     "status": "ok",
     "timestamp": 1610924270356,
     "user": {
      "displayName": "Jingjia Chen",
      "photoUrl": "https://lh3.googleusercontent.com/a-/AOh14Gjo2OncfI7FGZzr_0YKGlneHayFRkn5ydlXMd7dCg=s64",
      "userId": "06786466288909936611"
     },
     "user_tz": 480
    },
    "id": "RuYbAAOWa4zF",
    "outputId": "ba49f6d8-465b-43c4-8127-59ab852989b4"
   },
   "outputs": [],
   "source": [
    "x = np.array([1,2,3,4,5,6])\n",
    "y = x.copy()\n",
    "y[0] = 7\n",
    "print(x)\n",
    "print(y)"
   ]
  },
  {
   "cell_type": "markdown",
   "metadata": {
    "id": "9t6j9gCIa4zF"
   },
   "source": [
    "### Useful Numpy function: arange\n",
    "\n",
    "We use `arange` to create integer sequences in NumPy arrays. It's exactly like the normal range function in Python, except that it automatically returns the result as a NumPy array, rather than the plain vanilla Python list.\n",
    "\n",
    "`arange(0,N)` creates an array listing every integer from 0 to N-1.\n",
    "\n",
    "`arange(0,N,m)` creates an array listing every `m` th integer from 0 to N-1 ."
   ]
  },
  {
   "cell_type": "code",
   "execution_count": null,
   "metadata": {
    "colab": {
     "base_uri": "https://localhost:8080/"
    },
    "executionInfo": {
     "elapsed": 427,
     "status": "ok",
     "timestamp": 1610924271793,
     "user": {
      "displayName": "Jingjia Chen",
      "photoUrl": "https://lh3.googleusercontent.com/a-/AOh14Gjo2OncfI7FGZzr_0YKGlneHayFRkn5ydlXMd7dCg=s64",
      "userId": "06786466288909936611"
     },
     "user_tz": 480
    },
    "id": "a5zdTALDa4zF",
    "outputId": "3c4e875a-e0eb-490b-d29a-7c88e347b718"
   },
   "outputs": [],
   "source": [
    "print(np.arange(-5,5)) # every integer from -5 ... 4"
   ]
  },
  {
   "cell_type": "code",
   "execution_count": null,
   "metadata": {
    "colab": {
     "base_uri": "https://localhost:8080/"
    },
    "executionInfo": {
     "elapsed": 371,
     "status": "ok",
     "timestamp": 1610924271963,
     "user": {
      "displayName": "Jingjia Chen",
      "photoUrl": "https://lh3.googleusercontent.com/a-/AOh14Gjo2OncfI7FGZzr_0YKGlneHayFRkn5ydlXMd7dCg=s64",
      "userId": "06786466288909936611"
     },
     "user_tz": 480
    },
    "id": "Th8mVbtoa4zF",
    "outputId": "c28f4f74-433d-4cf1-91f4-03dd060b3629"
   },
   "outputs": [],
   "source": [
    "print(np.arange(0,5,2)) # every other integer from 0 ... 4"
   ]
  },
  {
   "cell_type": "markdown",
   "metadata": {
    "id": "3BqxOKjUa4zF"
   },
   "source": [
    "## Q1d: Visualizing Data\n",
    "\n",
    "Most of the work in scientific computing is in writing and debugging code. But no one cares about your code, they care about your results! Accordingly, it's important to be able to generate a nice looking plot that summarizes your results. Plotting is also a great debugging tool. \n",
    "\n",
    "We'll be using [Matplotlib](https://matplotlib.org/) for plotting signals and images in the labs. Specifically, we'll use the `pyplot` module, used for visualizing one-dimensional data, such as signals. By convention, we import `matplotlib.pyplot` as `plt`, so that when we call functions to generate our visuals, such as `matplotlib.pyplot.plot`, the function to plot, we can use the shorthand `plt.plot` instead.\n",
    "\n",
    "**To display the plots inside the browser, we use the command `%matplotlib inline` - do not forget this line whenever you start a new notebook.** This stops Python from opening a separate graphics window, displaying all plots directly inside the notebook instead. We'll always include it for you, but in case your plots aren't showing up in the notebook when you're playing around on your own, it's probably because you forgot this. If you don't include it, Python will default to displaying it in another window on your computer, which normally is fine, but here we need the plots in the notebook so they show up in your submission PDF."
   ]
  },
  {
   "cell_type": "code",
   "execution_count": null,
   "metadata": {
    "id": "OSuQDhMma4zF"
   },
   "outputs": [],
   "source": [
    "import matplotlib.pyplot as plt # by convention, we import matplotlib.pyplot as plt\n",
    "\n",
    "# plot in browser instead of opening new windows\n",
    "%matplotlib inline"
   ]
  },
  {
   "cell_type": "code",
   "execution_count": null,
   "metadata": {
    "id": "kFQccElia4zF"
   },
   "outputs": [],
   "source": [
    "# Generate signals\n",
    "x = np.arange(0, 1, 0.001)\n",
    "y1 = np.exp(-x)                              # decaying exponential\n",
    "y2 = np.sin(2 * np.pi * 10.0 * x)/4.0 + 0.5  # 10 Hz sine wave"
   ]
  },
  {
   "cell_type": "markdown",
   "metadata": {
    "id": "9-OJZLYra4zF"
   },
   "source": [
    "### Plotting One Signal"
   ]
  },
  {
   "cell_type": "code",
   "execution_count": null,
   "metadata": {
    "colab": {
     "base_uri": "https://localhost:8080/",
     "height": 265
    },
    "executionInfo": {
     "elapsed": 1018,
     "status": "ok",
     "timestamp": 1610924275944,
     "user": {
      "displayName": "Jingjia Chen",
      "photoUrl": "https://lh3.googleusercontent.com/a-/AOh14Gjo2OncfI7FGZzr_0YKGlneHayFRkn5ydlXMd7dCg=s64",
      "userId": "06786466288909936611"
     },
     "user_tz": 480
    },
    "id": "Y4iumq7Ca4zF",
    "outputId": "b26efd6b-3f51-401e-e598-7dd251f664f8"
   },
   "outputs": [],
   "source": [
    "plt.figure()\n",
    "plt.plot(x, y1)\n",
    "plt.show()"
   ]
  },
  {
   "cell_type": "markdown",
   "metadata": {
    "id": "RkFpJCQ2a4zG"
   },
   "source": [
    "### Plotting Multiple Signals in One Figure"
   ]
  },
  {
   "cell_type": "code",
   "execution_count": null,
   "metadata": {
    "colab": {
     "base_uri": "https://localhost:8080/",
     "height": 265
    },
    "executionInfo": {
     "elapsed": 517,
     "status": "ok",
     "timestamp": 1610924278076,
     "user": {
      "displayName": "Jingjia Chen",
      "photoUrl": "https://lh3.googleusercontent.com/a-/AOh14Gjo2OncfI7FGZzr_0YKGlneHayFRkn5ydlXMd7dCg=s64",
      "userId": "06786466288909936611"
     },
     "user_tz": 480
    },
    "id": "2AkrbHfxa4zG",
    "outputId": "b44df290-0a7b-4704-a29c-0dd5f3f31beb"
   },
   "outputs": [],
   "source": [
    "plt.figure()\n",
    "plt.plot(x, y1)\n",
    "plt.plot(x, y2)\n",
    "plt.show()"
   ]
  },
  {
   "cell_type": "markdown",
   "metadata": {
    "id": "NSv7y5cGa4zG"
   },
   "source": [
    "### Plotting multiple signals in different figures"
   ]
  },
  {
   "cell_type": "code",
   "execution_count": null,
   "metadata": {
    "colab": {
     "base_uri": "https://localhost:8080/",
     "height": 559
    },
    "executionInfo": {
     "elapsed": 919,
     "status": "ok",
     "timestamp": 1610924281238,
     "user": {
      "displayName": "Jingjia Chen",
      "photoUrl": "https://lh3.googleusercontent.com/a-/AOh14Gjo2OncfI7FGZzr_0YKGlneHayFRkn5ydlXMd7dCg=s64",
      "userId": "06786466288909936611"
     },
     "user_tz": 480
    },
    "id": "ZUU1cnAQa4zG",
    "outputId": "031a9ef7-f0ea-4d4a-bf40-4d1e4884fc48"
   },
   "outputs": [],
   "source": [
    "# figsize is the dimensions of the figure:\n",
    "# - the first argument is the width\n",
    "# - the second is height\n",
    "\n",
    "# it's useful when you want to adjust the figure's dimensions, e.g. you \n",
    "# need a huge x-axis for data taken over a long time period\n",
    "plt.figure(figsize=(16, 4))\n",
    "plt.plot(x, y1)\n",
    "\n",
    "# fancy formatting stuff - try playing with it!\n",
    "plt.title(\"Decaying Exponential\")\n",
    "plt.xlabel(\"Time\")\n",
    "plt.ylabel(\"Amplitude\")\n",
    "plt.legend([\"$e^{-x}$\"])    # LaTeX fancy formatting\n",
    "plt.xlim([0, 1])            # zoom in on x-axis \n",
    "\n",
    "\n",
    "# asking plt for a new figure before plotting will put the next call to plt.plot\n",
    "# on that new figure\n",
    "plt.figure(figsize=(16, 4)) \n",
    "plt.plot(x, y2)\n",
    "plt.title(\"10 Hz Sine Wave\")\n",
    "\n",
    "# ALWAYS make sure to call plt.show() *ONCE* after all your plotting code so your plots are displayed!\n",
    "# You only need to call it once per code cell, even if you have multiple figures.\n",
    "plt.show()"
   ]
  },
  {
   "cell_type": "markdown",
   "metadata": {
    "id": "MIhOhzDfa4zG"
   },
   "source": [
    "**Make no mistake - the data points used for plotting on a computer truly always are discrete, but matplotlib's `plt.plot()` function interpolates them, giving us the continuous waveforms you see above.**"
   ]
  },
  {
   "cell_type": "markdown",
   "metadata": {
    "id": "xRxirIeEa4zG"
   },
   "source": [
    "You can also add a title and legend with `plt.title()`, `plt.legend()` to make your plots look professional. Using dollar signs, you can add math symbols, as in LaTeX."
   ]
  },
  {
   "cell_type": "code",
   "execution_count": null,
   "metadata": {
    "colab": {
     "base_uri": "https://localhost:8080/",
     "height": 458
    },
    "executionInfo": {
     "elapsed": 518,
     "status": "ok",
     "timestamp": 1610924290151,
     "user": {
      "displayName": "Jingjia Chen",
      "photoUrl": "https://lh3.googleusercontent.com/a-/AOh14Gjo2OncfI7FGZzr_0YKGlneHayFRkn5ydlXMd7dCg=s64",
      "userId": "06786466288909936611"
     },
     "user_tz": 480
    },
    "id": "-RtZ5LV8a4zG",
    "outputId": "70876286-aa51-43c9-8c10-0d7599d295d6",
    "scrolled": false
   },
   "outputs": [],
   "source": [
    "# The figsize parameter can help you shape your figure\n",
    "plt.figure(figsize=(10,7))\n",
    "plt.plot(x, y1)\n",
    "plt.plot(x, y2)\n",
    "plt.xlabel(\"x axis\")\n",
    "plt.ylabel(\"y axis\")\n",
    "plt.title(\"Title\")\n",
    "\n",
    "# You can also change the legend font size by passing in the fontsize= paramater\n",
    "plt.legend((r'$e^{-x}$', r'$\\frac{\\sin(2\\pi \\cdot 10\\cdot x)}{4}+0.5$'), fontsize=14)\n",
    "plt.show()"
   ]
  },
  {
   "cell_type": "markdown",
   "metadata": {
    "id": "NznxZDBQa4zG"
   },
   "source": [
    "You can also specify more options in `plot()`, such as color and linewidth. You can also change the axis using `plt.axis`."
   ]
  },
  {
   "cell_type": "code",
   "execution_count": null,
   "metadata": {
    "colab": {
     "base_uri": "https://localhost:8080/",
     "height": 458
    },
    "executionInfo": {
     "elapsed": 515,
     "status": "ok",
     "timestamp": 1610924294694,
     "user": {
      "displayName": "Jingjia Chen",
      "photoUrl": "https://lh3.googleusercontent.com/a-/AOh14Gjo2OncfI7FGZzr_0YKGlneHayFRkn5ydlXMd7dCg=s64",
      "userId": "06786466288909936611"
     },
     "user_tz": 480
    },
    "id": "Aupp5mCna4zH",
    "outputId": "b833acc9-ad7d-4a64-ba37-9328870464ba"
   },
   "outputs": [],
   "source": [
    "plt.figure(figsize=(10,7))\n",
    "plt.plot(x, y1, \":r\", linewidth=10)\n",
    "plt.plot(x, y2, \"--k\")\n",
    "plt.xlabel(\"x axis\")\n",
    "plt.ylabel(\"y axis\")\n",
    "\n",
    "plt.title(\"Title\")\n",
    "\n",
    "plt.legend((r'$e^{-x}$', r'$\\frac{\\sin(10\\cdot x)}{4}+0.5$'), fontsize=14)\n",
    "\n",
    "# plt.axis takes in a list of the form [x_lower, x_upper, y_lower, y_upper]\n",
    "plt.axis([0, 0.5, -0.5, 1.5])\n",
    "plt.show()"
   ]
  },
  {
   "cell_type": "code",
   "execution_count": null,
   "metadata": {
    "colab": {
     "base_uri": "https://localhost:8080/",
     "height": 302
    },
    "executionInfo": {
     "elapsed": 516,
     "status": "ok",
     "timestamp": 1610924296878,
     "user": {
      "displayName": "Jingjia Chen",
      "photoUrl": "https://lh3.googleusercontent.com/a-/AOh14Gjo2OncfI7FGZzr_0YKGlneHayFRkn5ydlXMd7dCg=s64",
      "userId": "06786466288909936611"
     },
     "user_tz": 480
    },
    "id": "4aYLPPPAa4zH",
    "outputId": "f17212f4-2863-470f-e5e7-a4553b8f6b21"
   },
   "outputs": [],
   "source": [
    "# xkcd: the Comic sans of plot styles\n",
    "with plt.xkcd():\n",
    "    plt.figure()\n",
    "    plt.plot(x, y1, 'b')\n",
    "    plt.plot(x, y2, color='orange')\n",
    "    plt.xlabel(\"x axis\")\n",
    "    plt.ylabel(\"y axis\")\n",
    "    plt.title(\"Title\")\n",
    "    plt.legend((\"blue\", \"orange\"))\n",
    "    plt.show()"
   ]
  },
  {
   "cell_type": "markdown",
   "metadata": {
    "id": "FM5OQ274a4zH"
   },
   "source": [
    "### Other Plotting Functions"
   ]
  },
  {
   "cell_type": "markdown",
   "metadata": {
    "id": "3c_MTADva4zH"
   },
   "source": [
    "There are many other plotting functions. For example, we will use `plt.imshow()` for showing images."
   ]
  },
  {
   "cell_type": "code",
   "execution_count": null,
   "metadata": {
    "colab": {
     "base_uri": "https://localhost:8080/",
     "height": 269
    },
    "executionInfo": {
     "elapsed": 721,
     "status": "ok",
     "timestamp": 1610924301631,
     "user": {
      "displayName": "Jingjia Chen",
      "photoUrl": "https://lh3.googleusercontent.com/a-/AOh14Gjo2OncfI7FGZzr_0YKGlneHayFRkn5ydlXMd7dCg=s64",
      "userId": "06786466288909936611"
     },
     "user_tz": 480
    },
    "id": "ifYRM5m6a4zH",
    "outputId": "71b70ad0-b1dd-469b-bdce-d8e840284214"
   },
   "outputs": [],
   "source": [
    "image = np.outer(y1, y2) # plotting the outer product of y1 and y2\n",
    "\n",
    "plt.figure()\n",
    "plt.imshow(image)\n",
    "plt.show()"
   ]
  },
  {
   "cell_type": "markdown",
   "metadata": {
    "id": "FHbgehg3a4zH"
   },
   "source": [
    "Similarly, we use `plt.stem()` for plotting discretized signals (technically, on a computer, everything is discretized, but it's often as a result of sampling something continuous, in which case it's often more informative to plot it as a continuous signal with `plt.plot()`)."
   ]
  },
  {
   "cell_type": "code",
   "execution_count": null,
   "metadata": {
    "colab": {
     "base_uri": "https://localhost:8080/",
     "height": 323
    },
    "executionInfo": {
     "elapsed": 511,
     "status": "ok",
     "timestamp": 1610924305313,
     "user": {
      "displayName": "Jingjia Chen",
      "photoUrl": "https://lh3.googleusercontent.com/a-/AOh14Gjo2OncfI7FGZzr_0YKGlneHayFRkn5ydlXMd7dCg=s64",
      "userId": "06786466288909936611"
     },
     "user_tz": 480
    },
    "id": "Li5Mh4zaa4zH",
    "outputId": "a3679a3e-eb49-49ea-c4b5-fdef0214b1f2"
   },
   "outputs": [],
   "source": [
    "# decaying exponential\n",
    "n = np.arange(0, 10)\n",
    "signal = np.exp(-n / 2) \n",
    "\n",
    "# stem plot on an 8-by-4 inch figure\n",
    "plt.figure(figsize=(8, 4))\n",
    "plt.stem(n, signal)\n",
    "\n",
    "# zoom out a little on both axes to get cleaner looking plot\n",
    "plt.xlim([-.5, 9.5])\n",
    "plt.ylim([0, 1.2])\n",
    "plt.show()"
   ]
  },
  {
   "cell_type": "markdown",
   "metadata": {
    "id": "DaShBnLKa4zH"
   },
   "source": [
    "# Q2: Practice with Signals\n",
    "\n",
    "Now that you're acquainted with the basics of Python and the Jupyter Notebook environment, we'll practice generating and plotting signals. This is a great starting point, since generating and visualizing signals makes up most of what we do in the labs; the signals (and what we do with them) just get more interesting as we progress through the semester."
   ]
  },
  {
   "cell_type": "markdown",
   "metadata": {
    "id": "4viyiySia4zH"
   },
   "source": [
    "In EE 120, almost all signals we work with will be functions of a single independent variable — known as \"1D\" signals  — which represents time. Considering signals as functions is an incredibly useful idea, as it enables us to do all sorts of operations on them that you're already familar with, such as multiplying them elementwise or taking linear combinations of them. There are two types of signals we'll consider in this class, **Discrete Time (DT) signals** and **Continuous Time (CT) signals**.\n",
    "\n",
    "Later in the semester, we'll see how, under certain assumptions, we can go back and forth between the continuous and discrete realms using sampling and interpolation without any loss of information."
   ]
  },
  {
   "cell_type": "markdown",
   "metadata": {
    "id": "uI4mLg3ga4zI"
   },
   "source": [
    "## Pencil and Paper vs Python: Interpreting time indices\n",
    "\n",
    "When working on a computer, there is a key limitation we must cope with: **finite memory**. We can't store a signal's value for every integer (in the DT case) or every real number (in the CT case). Instead, we represent signals as discrete arrays of some fixed length $N$. As a result, there are understood conventions in signals and systems for how to interpret the time indices associated with a signal's array representation on a computer. Suppose we have a Python variable `sig`, which is a NumPy array representing a signal.\n",
    "- **If `sig` represents a DT signal $x$:** \n",
    "    - `sig[0]` is interpreted as corresponding to time zero, that is, $x(0)$. \n",
    "    - `sig[N-1]` corresponds to $x(N-1)$. Remember, there are a total of $N$ values since we can't store infinitely many, so this is the end of the array. \n",
    "    - This convention is quite natural, as it's the same as the array indexing convention in most programming languages. \n",
    "- **If `sig` represents a CT signal $y$**: \n",
    "    - All CT signals are first *sampled* before they go onto a computer for processing — we can't store a countably infinite number of values in the DT case, so we certainly can't store an uncountably infinite number for CT.\n",
    "    - The solution is to sample the signal value every $T$ seconds, taking $N$ total to form an array we can use in Python. This means the array contains $y(0), y(T), y(2T), ..., y((N-1) T)$. As in the DT case, `sig[0]` is understood to correspond to $y(0)$. \n",
    "        - To give a concrete example, digital audio is typically obtained by sampling acoustic pressure on a microphone (a CT signal) at 44.1 kHz, or 44100 times a second. This means that each sample is separated by $T=1/44100$ seconds. \n",
    "        - Taking the variable $t$ to be measured in seconds, we see that `sig[1]` is $y(1/44100)$, `sig[2]` is $y(2/44100)$, and so on. \n",
    "        - The last array entry, `sig[N-1]`, is $y((N-1)/44100)$.\n",
    "- Depending on whether `sig` represents a DT signal or a CT signal, we'll may plot it using a lollipop plot (with `plt.stem`) or a standard, smooth interpolated plot (with `plt.plot`).\n",
    "\n",
    "**In both DT and CT, we assume that before the first and after the $N$th array value, the true signal $x$ or $y$ is zero.** In practice, the true signal may not actually be zero outside this range. Part of the data acquisition process is making sure the $N$ values you have are good enough, so that we can safely ignore any truncation that may have occurred once we move on to doing the actual signal processing.\n",
    "\n",
    "In this question, we'll only consider DT signals, with associated time indices given to you. Sometimes, you'll be asked to include some of the implicit zeros as you gain comfort with these conventions. Later in the lab, you'll have a chance to play around with CT signals."
   ]
  },
  {
   "cell_type": "markdown",
   "metadata": {
    "id": "ysCbcTLYa4zI"
   },
   "source": [
    "## Q2a: The Rectangular Signal\n",
    "\n",
    "The length $L$ rectangular signal (sometimes also called the \"rect\" for short, or, alternatively, the \"boxcar\" signal) is defined as\n",
    "\n",
    "$$r(n) = \\begin{cases}1 & n = 0, 1, 2, ..., L - 1 \\\\ 0 & \\text{otherwise}\\end{cases}$$\n",
    "\n",
    "\n",
    "Some alternate definitions of the rect will normalize it (so that each nonzero point of the signal has height $1/L$), and some will center it around zero (although this can only be done when $L$ is odd, so that there is a center point and an equal number of nonzero signal points on each side of $n = 0$)."
   ]
  },
  {
   "cell_type": "markdown",
   "metadata": {
    "id": "mDU1EsHya4zI"
   },
   "source": [
    "### Your Job\n",
    "\n",
    "Fill in the cell below to *generate and plot* a **length 5** rectangular signal, with the time indices ranging from -2 to 8. \n",
    "\n",
    "Some quick refreshers from the content of Question 1:  \n",
    "- We represent both signals and time indices as NumPy arrays. For example, a length 3 rectangular signal can be constructed using the code `np.array([1, 1, 1])`, assuming you wanted to consider it for $n = 0, 1, 2$. \n",
    "- The function `np.arange` is extremely useful for generating sequences of numbers, as we often require when creating time indices for our data, as NumPy arrays.\n",
    "- When calling `plt.stem(x, y)`, the number of elements in `x` must equal the number of elements in `y`. To solve this, we can pad on some of the implicit zeros in our signal, as was done in the above plot, where the zeros for $n=-2,-1,7,8$ were included.\n",
    "\n",
    "As in the plot above, label x and y axes with `plt.xlabel` and `plt.ylabel` (using $n$ and $r(n)$ respectively as was done above is fine; we just want you to get in the habit of labelling your plots). Additionally, use `plt.title` to title your plot as \"Length 5 Rectangular Signal\".\n",
    "\n",
    "**Hint:** We use `plt.stem`, not `plt.plot`, for generating \"lollipop\" plots for discrete-time signals."
   ]
  },
  {
   "cell_type": "markdown",
   "metadata": {},
   "source": [
    "<!-- BEGIN QUESTION -->\n",
    "\n"
   ]
  },
  {
   "cell_type": "code",
   "execution_count": null,
   "metadata": {
    "id": "KSeSkHwTa4zI",
    "tags": []
   },
   "outputs": [],
   "source": [
    "..."
   ]
  },
  {
   "cell_type": "markdown",
   "metadata": {
    "id": "x8YyKWVOa4zI"
   },
   "source": [
    "<!-- END QUESTION -->\n",
    "\n",
    "Now, fill in the cell below to *generate and plot* a **length 50** rectangular signal, with the **time indices ranging from 0 to 59**. Give your plot the title \"Length 50 Rectangular Signal\".\n",
    "\n",
    "**Hint:** It's very tedious to type out 50 ones and 10 zeros. This is a great time to practice using the functions `np.concatenate`, `np.ones`, and `np.zeros`."
   ]
  },
  {
   "cell_type": "markdown",
   "metadata": {},
   "source": [
    "<!-- BEGIN QUESTION -->\n",
    "\n"
   ]
  },
  {
   "cell_type": "code",
   "execution_count": null,
   "metadata": {
    "id": "lo1DzWVEa4zI",
    "tags": []
   },
   "outputs": [],
   "source": [
    "..."
   ]
  },
  {
   "cell_type": "markdown",
   "metadata": {
    "id": "Bg07JMMia4zI"
   },
   "source": [
    "<!-- END QUESTION -->\n",
    "\n",
    "Now, fill in the cell below to *generate and plot* a **length 13** rectangular signal, with the **time indices ranging from 0 to 12**. Give your plot the title \"Length 13 Rectangular Signal\". Note that the indices 0 to 12 correspond to a total of 13 time points, so no padding of the implicit zeros is necessary."
   ]
  },
  {
   "cell_type": "markdown",
   "metadata": {},
   "source": [
    "<!-- BEGIN QUESTION -->\n",
    "\n"
   ]
  },
  {
   "cell_type": "code",
   "execution_count": null,
   "metadata": {
    "id": "dsKH7uR2a4zI",
    "tags": []
   },
   "outputs": [],
   "source": [
    "..."
   ]
  },
  {
   "cell_type": "markdown",
   "metadata": {
    "id": "1D4XwSs2a4zI"
   },
   "source": [
    "<!-- END QUESTION -->\n",
    "\n",
    "Finally, fill in the cell below to *generate and plot* a **length 13** rectangular signal, with the **time indices ranging from -10 to 10**. This time, there's a twist: instead of using the definition above as we did in the previous part, make this signal zero-cenetered, so that the signal is nonzero from -6 to 6. Give your plot the title \"Zero-Centered Length 13 Rectangular Signal\"."
   ]
  },
  {
   "cell_type": "markdown",
   "metadata": {},
   "source": [
    "<!-- BEGIN QUESTION -->\n",
    "\n"
   ]
  },
  {
   "cell_type": "code",
   "execution_count": null,
   "metadata": {
    "id": "Ntz59xn-a4zI",
    "tags": []
   },
   "outputs": [],
   "source": [
    "..."
   ]
  },
  {
   "cell_type": "markdown",
   "metadata": {
    "id": "aKdf_ngva4zJ"
   },
   "source": [
    "<!-- END QUESTION -->\n",
    "\n",
    "## Q2b: The One-Sided Decaying Exponential Signal\n",
    "\n",
    "We define the rate $r$, for all real numbers $r > 0$, one-sided decaying exponential signal as \n",
    "\n",
    "$$x(n) = e^{-rn} u(n) = \\begin{cases}e^{-rn} & n = 0, 1, 2, ... \\\\ 0 & \\text{otherwise}\\end{cases}$$\n",
    "\n",
    "Again, we've adopted the convention of starting our signal at $n=0$. Specifically, this one-sided decaying exponential is said to be *right-sided* since it decays as we go to the right (in fact, since the first nonzero point is at $n=0$, we call the signal *causal*). \n",
    "\n",
    "\n",
    "As we increase $r$, the signal decays to zero faster and faster. In the case of $r = 0$, we obtain the unit step, which doesn't decay at all.\n",
    "\n",
    "<img src='lab0q2a.png' width=\"800\" height=\"800\">"
   ]
  },
  {
   "cell_type": "markdown",
   "metadata": {
    "id": "O3OpvwUha4zJ"
   },
   "source": [
    " ### Coping with infinite duration signals: Truncation\n",
    "\n",
    "Note that for all $r > 0$, the signal has infinite duration, unlike our rectangular signal: we can pick an arbitrary $n > 0$, and $x(n)$ will be nonzero (in fact, it will be positive, since the exponential function is always positive).  \n",
    "\n",
    "This creates an issue for us, since we can't store an infinite number of signal values. Fortunately, there's an easy and well-justified solution: *truncation*. Just as calling the \"int\" function causes Python to cast floating-point numbers to integers by chopping off, or *truncating*, the decimal part of the number (e.g. `int(3.1415) = 3`, so that `.1415` is removed), we can ignore all the signal values past some point by not including them. For example, in the above plots, we truncate the signals at $n=20$, so there are only 21 nonzero points in the output. The reason this is well-justified is that for most rates that aren't too small, exponentials decay very rapidly. In the first two plots above, for $n=20$, the signal value appears to have already decayed to zero anyways! For the third, we'd simply need to use more data points (likely around 50-100) if we wanted to capture all signal values above ~.001 or so."
   ]
  },
  {
   "cell_type": "markdown",
   "metadata": {
    "id": "eo3N3cCAa4zJ"
   },
   "source": [
    "### Your Job\n",
    "\n",
    "Rather than recreate the same code for generating our signal several times as we did in Q2a, let's create a function for generating our one-sided decaying exponential signal. Then, we can just call the function each time we want to generate the signal. Fill in the `decaying_expo` function below according to the docstring. Run the tests too check that you did this correctly.\n",
    "\n",
    "If you're unsure of how to return multiple values from a Python function, you should go back to Q1.\n",
    "\n",
    "**Hint:** Your function needs to handle two separate cases: `n_start >= 0`, and `n_start < 0`. We recommend you define two variables: one for your time indices, and one for your signal. Then, based on `n_start`, assign them the appropriate values."
   ]
  },
  {
   "cell_type": "code",
   "execution_count": null,
   "metadata": {
    "id": "PS9ceXDUa4zJ",
    "tags": []
   },
   "outputs": [],
   "source": [
    "def decaying_expo(rate, n_start, n_end):\n",
    "    \"\"\"\n",
    "    Returns a right-sided decaying exponential signal, truncated to the provided indices.\n",
    "    \n",
    "    Parameters:\n",
    "    rate    - The decay rate.\n",
    "    n_start - The first time index to use in generating the signal. \n",
    "    n_end   - The last time index to use in generating the signal.\n",
    "    \n",
    "    Returns:\n",
    "    n       - The time indices the signal is generated for: n_start, n_start + 1, ..., n_end.\n",
    "    sig     - The signal values for each input in n.\n",
    "    \n",
    "    If n_start is not less than n_end, a ValueError will be raised, as this specifies an empty\n",
    "    range of time indices to generate the signal over.    \n",
    "    \"\"\"    \n",
    "    if n_start >= n_end:\n",
    "        raise ValueError(\"n_start must be less than n_end\")\n",
    "    \n",
    "    ..."
   ]
  },
  {
   "cell_type": "code",
   "execution_count": null,
   "metadata": {
    "deletable": false,
    "editable": false
   },
   "outputs": [],
   "source": [
    "grader.check(\"q2b.1\")"
   ]
  },
  {
   "cell_type": "markdown",
   "metadata": {
    "id": "RMly4BuKa4zJ"
   },
   "source": [
    "Once all tests are passing, fill in the cell below to recreate the plot that was given to you above for the right-sided decaying exponentials. \n",
    "\n",
    "Using your shiny new and tested function, this should be pretty simple; the only work is in generating the plots. If you're unsure of how to plot multiple signals below one another, head back to the **\"Plotting multiple signals in different figures\"** section of Q1. Alternatively, if you're feeling fancy, this would be a great opportunity to try your hand at using matplotlib's [subplot](https://matplotlib.org/3.1.0/api/_as_gen/matplotlib.pyplot.subplot.html) function to generate a 3x1 grid of plots within the same figure. Either plotting method is acceptable."
   ]
  },
  {
   "cell_type": "markdown",
   "metadata": {},
   "source": [
    "<!-- BEGIN QUESTION -->\n",
    "\n"
   ]
  },
  {
   "cell_type": "code",
   "execution_count": null,
   "metadata": {
    "id": "j2xL787Ua4zJ",
    "tags": []
   },
   "outputs": [],
   "source": [
    "..."
   ]
  },
  {
   "cell_type": "markdown",
   "metadata": {
    "id": "8Jg26PtHa4zJ"
   },
   "source": [
    "<!-- END QUESTION -->\n",
    "\n",
    "You can do a quick sanity check on your results by comparing to the original plot above. The two should match exactly. **Don't forget to add plot titles!**"
   ]
  },
  {
   "cell_type": "markdown",
   "metadata": {
    "id": "aKdf_ngva4zJ"
   },
   "source": [
    "<a id='q2c'></a>\n",
    "## Q2c: Approximating Continuous Signals\n",
    "\n",
    "Often times it is nice to plot and manipulate continuous time signals using Python. The only issue is that you cannot really use truly continuous signals in Python. That is because our computers are digital, not analog. However we can approximate these analog or continuous signals using discrete signals.\n",
    "\n",
    "We will consider the following signal on the interval $t \\in [0,1]$ (i.e. one cycle of a sine wave)\n",
    "\n",
    "$$\n",
    "y(t) = \\sin(2 \\pi t)\n",
    "$$\n",
    "\n",
    "Let us try and understand how the number of points we have influences the approximation of our sine wave. In order to generate different 'samples' between 0 and 1, we can use numpy's `linspace` function. Simply put, `linspace(start, end, n_points)` will generate samples starting at `start`, ending at `end` and there will be `n_points` equally spaced points.\n",
    "\n",
    "Say we want to generate 10 points between 0 and 1. We would call `np.linspace(0, 1, 10)`:"
   ]
  },
  {
   "cell_type": "code",
   "execution_count": null,
   "metadata": {},
   "outputs": [],
   "source": [
    "# Generating 10 points between 0 and 1\n",
    "t = np.linspace(0,1,10)\n",
    "print(t)"
   ]
  },
  {
   "cell_type": "markdown",
   "metadata": {},
   "source": [
    "Notice that each of these points are equally space between 0 and 1 inclusive.\n",
    "\n",
    "In order to approximate $y(t)$, we can evaulate the sine function at each of these points. We have $N=10$ points here, so this would yield a discrete time signal \n",
    "$$y[n] = y(2\\pi \\frac{n}{N-1}), \\text{ where } 0 \\le n \\le N-1\n",
    "$$\n",
    "\n",
    "$n=0$ would correspond to $\\sin(2 \\pi (0))$   \n",
    "$n=1$ would correspond to $\\sin(2 \\pi (0.11111111))$\n",
    "etc.\n",
    "\n",
    "Or in Python:"
   ]
  },
  {
   "cell_type": "code",
   "execution_count": null,
   "metadata": {},
   "outputs": [],
   "source": [
    "y_approx = np.sin(2 * np.pi * t)"
   ]
  },
  {
   "cell_type": "markdown",
   "metadata": {},
   "source": [
    "The idea is that the larger we make $N$, the better `y_approx` will approximate $y(t)$."
   ]
  },
  {
   "cell_type": "markdown",
   "metadata": {},
   "source": [
    "### Your Job\n",
    "Using `np.linspace` and `np.sin`, approximate $y(t)$ for $N=10,20,50,100$. Make 4 **stem** subplots, each row showing a different value of $N$. Make sure to title or label which plot corresponds to which value of $N$."
   ]
  },
  {
   "cell_type": "markdown",
   "metadata": {},
   "source": [
    "<!-- BEGIN QUESTION -->\n",
    "\n"
   ]
  },
  {
   "cell_type": "code",
   "execution_count": null,
   "metadata": {
    "tags": []
   },
   "outputs": [],
   "source": [
    "..."
   ]
  },
  {
   "cell_type": "markdown",
   "metadata": {},
   "source": [
    "<!-- END QUESTION -->\n",
    "\n",
    "### Composite Signals\n",
    "Now we are going to visually look at what happens when you have multiple signal with differnece frequencies (It's ok if this word is not familiar to you) being added together. \n",
    "\n",
    "You are given 3 sinusoidal signals as follows:\n",
    "$$\n",
    "\\begin{aligned}\n",
    "y_1(t) &= \\sin(1 \\pi t) \\\\\n",
    "y_2(t) &= \\frac{1}{3}\\sin(3 \\pi t) \\\\\n",
    "y_3(t) &= \\frac{1}{5}\\sin(5 \\pi t)\n",
    "\\end{aligned}\n",
    "$$\n",
    "\n",
    "We can then construct a 4th signal, $y_s(t)$ as the sum of the previous 3:\n",
    "\n",
    "$$\n",
    "y_s(t) = y_1(t) + y_2(t) + y_3(t)\n",
    "$$\n",
    "\n",
    "Furthermore, we are interested in $t \\in [0, 10]$. That is, when you are plotting these, make sure that `linspace` starts at 0 and ends at 10. \n",
    "\n",
    "### Your Job\n",
    "Using $N=1000$ points, make 4 subplots where each row represents one of the signals above. Make sure to label your plots!"
   ]
  },
  {
   "cell_type": "markdown",
   "metadata": {},
   "source": [
    "<!-- BEGIN QUESTION -->\n",
    "\n"
   ]
  },
  {
   "cell_type": "code",
   "execution_count": null,
   "metadata": {
    "tags": []
   },
   "outputs": [],
   "source": [
    "..."
   ]
  },
  {
   "cell_type": "markdown",
   "metadata": {},
   "source": [
    "<!-- END QUESTION -->\n",
    "\n",
    "## Something To Think About ...\n",
    "\n",
    "Suppose somebody gave you $y_s(t)$ and asked you to find $y_1(t)$, $y_2(t)$, and $y_3(t)$. How would you do this? This is a question that will be answered in a few weeks when we start talking about Fourier Transforms."
   ]
  },
  {
   "cell_type": "markdown",
   "metadata": {
    "id": "Ldy31uEka4zJ"
   },
   "source": [
    "# References\n",
    "[1] The official Python 3 language documentation. [Link](https://docs.python.org/3/).  \n",
    "[2] The official NumPy and SciPy documentation. [Link](https://docs.scipy.org/doc/).  \n",
    "[3] The official Matplotlib documentation. [Link](https://matplotlib.org/contents.html).    \n",
    "\n",
    "Special thanks to the [Berkeley Python Bootcamp 2013](https://github.com/profjsb/python-bootcamp), [Python for Signal Processing Tutorial](http://link.springer.com/book/10.1007%2F978-3-319-01342-8), [EE 123 Lab 0](https://inst.eecs.berkeley.edu/~ee123/sp18/lab/lab0/python_tutorial.ipynb) and [EECS 126 Lab 1](https://inst.eecs.berkeley.edu/~ee126/sp18/LAB01.zip) for providing a great starting point for Question 1 through their own publicly available tutorials."
   ]
  },
  {
   "cell_type": "markdown",
   "metadata": {
    "deletable": false,
    "editable": false
   },
   "source": [
    "## Submission\n",
    "\n",
    "Make sure you have run all cells in your notebook in order before running the cell below, so that all images/graphs appear in the output. The cell below will generate a zip file for you to submit. **Please save before exporting!**\n",
    "\n",
    "These are some submission instructions."
   ]
  },
  {
   "cell_type": "code",
   "execution_count": null,
   "metadata": {
    "deletable": false,
    "editable": false
   },
   "outputs": [],
   "source": [
    "# Save your notebook first, then run this cell to export your submission.\n",
    "grader.export(run_tests=True)"
   ]
  },
  {
   "cell_type": "markdown",
   "metadata": {},
   "source": [
    " "
   ]
  }
 ],
 "metadata": {
  "anaconda-cloud": {},
  "colab": {
   "collapsed_sections": [
    "PzdYjONWa4y6",
    "6CuOO9QMa4zB",
    "O3OpvwUha4zJ"
   ],
   "name": "lab0.ipynb",
   "provenance": []
  },
  "kernelspec": {
   "display_name": "Python 3 (ipykernel)",
   "language": "python",
   "name": "python3"
  },
  "language_info": {
   "codemirror_mode": {
    "name": "ipython",
    "version": 3
   },
   "file_extension": ".py",
   "mimetype": "text/x-python",
   "name": "python",
   "nbconvert_exporter": "python",
   "pygments_lexer": "ipython3",
   "version": "3.10.9"
  },
  "otter": {
   "OK_FORMAT": true,
   "tests": {
    "q2b.1": {
     "name": "q2b.1",
     "points": null,
     "suites": [
      {
       "cases": [
        {
         "code": ">>> assert np.allclose(decaying_expo(.95, 0, 20)[0], np.arange(0, 21))\n>>> assert np.allclose(decaying_expo(.8, 3, 20)[0], np.arange(3, 21))\n",
         "hidden": false,
         "locked": false
        },
        {
         "code": ">>> correct_ans = np.array([1.0,0.38674102345450123,0.14956861922263506,0.057844320874838484,0.0223707718561656,0.008651695203120634,0.003345965457471275,0.001294022105465849,0.0005004514334406108,0.00019354509955809418,7.48518298877006e-05,2.894827329821157e-05,1.119548484259096e-05,4.329753266092978e-06,1.674493209434269e-06,6.475952175842209e-07,2.504516372327622e-07,9.685992250925397e-08,3.7459705562952584e-08,1.4487204867720514e-08,5.602796437537268e-09])\n>>> assert np.allclose(correct_ans, decaying_expo(.95, 0, 20)[1])\n>>> \n>>> correct_ans = np.array([1.0,0.44932896411722156,0.20189651799465538,0.09071795328941247,0.04076220397836621,0.01831563888873418,0.008229747049020023,0.003697863716482929,0.001661557273173934,0.0007465858083766792,0.00033546262790251185,0.0001507330750954765,6.772873649085378e-05,3.0432483008403625e-05,1.3674196065680938e-05,6.14421235332821e-06,2.7607725720371986e-06,1.2404950799567113e-06,5.573903692694596e-07,2.504516372327617e-07,1.1253517471925912e-07])\n>>> assert np.allclose(correct_ans, decaying_expo(.8, 0, 20)[1])\n>>> \n>>> correct_ans = np.array([1.0,0.7408182206817179,0.5488116360940265,0.40656965974059917,0.30119421191220214,0.22313016014842982,0.16529888822158656,0.1224564282529819,0.09071795328941251,0.06720551273974978,0.049787068367863944,0.036883167401240015,0.02732372244729257,0.02024191144580439,0.014995576820477703,0.011108996538242306,0.00822974704902003,0.006096746565515638,0.00451658094261267,0.003345965457471272,0.0024787521766663585]) \n>>> assert np.allclose(correct_ans, decaying_expo(.3, 0, 20)[1])\n",
         "hidden": false,
         "locked": false
        },
        {
         "code": ">>> assert np.allclose(decaying_expo(5, -4, 217)[0], np.arange(-4, 218))\n>>> assert np.allclose(decaying_expo(np.pi, -1998, 2019)[0], np.arange(-1998, 2020))\n",
         "hidden": false,
         "locked": false
        },
        {
         "code": ">>> correct_ans = np.array([0.0,0.0,0.0,0.0,1.0,0.36787944117144233,0.1353352832366127,0.049787068367863944,0.01831563888873418,0.006737946999085467,0.0024787521766663585,0.0009118819655545162,0.00033546262790251185,0.00012340980408667956,4.5399929762484854e-05,1.670170079024566e-05,6.14421235332821e-06,2.2603294069810542e-06,8.315287191035679e-07])\n>>> assert np.allclose(correct_ans, decaying_expo(1, -4, 14)[1])\n>>> \n>>> correct_ans = np.array([0.0,0.0,0.0,0.0,0.0,1.0,0.6065306597126334,0.36787944117144233,0.22313016014842982,0.1353352832366127,0.0820849986238988,0.049787068367863944,0.0301973834223185,0.01831563888873418,0.011108996538242306,0.006737946999085467,0.004086771438464067,0.0024787521766663585,0.0015034391929775724,0.0009118819655545162,0.0005530843701478336])\n>>> assert np.allclose(correct_ans, decaying_expo(.5, -5, 15)[1])\n>>> \n>>> correct_ans = np.array([0.0,0.0,0.0,0.0,0.0,0.0,1.0,0.01831563888873418,0.00033546262790251185,6.14421235332821e-06,1.1253517471925912e-07,2.061153622438558e-09,3.775134544279098e-11,6.914400106940203e-13,1.2664165549094176e-14,2.3195228302435696e-16,4.248354255291589e-18,7.781132241133797e-20,1.4251640827409352e-21,2.6102790696677047e-23,4.780892883885469e-25,8.75651076269652e-27,1.603810890548638e-28])\n>>> assert np.allclose(correct_ans, decaying_expo(4, -6, 16)[1])\n",
         "hidden": false,
         "locked": false
        }
       ],
       "scored": true,
       "setup": "",
       "teardown": "",
       "type": "doctest"
      }
     ]
    }
   }
  }
 },
 "nbformat": 4,
 "nbformat_minor": 1
}
